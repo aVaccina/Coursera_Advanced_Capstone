{
    "nbformat_minor": 1, 
    "cells": [
        {
            "source": "<h2>Import data: I have downloaded them from kaggle and saved as a local .csv</h2>", 
            "cell_type": "markdown", 
            "metadata": {}
        }, 
        {
            "source": "import ibmos2spark\n# @hidden_cell\ncredentials = {\n    'endpoint': 'https://s3-api.us-geo.objectstorage.service.networklayer.com',\n    'service_id': 'iam-ServiceId-605d1d7d-0205-4604-a51d-a978b938e1fb',\n    'iam_service_endpoint': 'https://iam.bluemix.net/oidc/token',\n    'api_key': 'XUQ-Bcmlkr3wSlWTHTIUElgBRwJNjnU7WnudKr9NbyxE'\n}\n\nconfiguration_name = 'os_90efa9cd5cc84a68b8514f708ed4b4d9_configs'\ncos = ibmos2spark.CloudObjectStorage(sc, credentials, configuration_name, 'bluemix_cos')\n\nfrom pyspark.sql import SparkSession\nspark = SparkSession.builder.getOrCreate()\ndf_data_1 = spark.read\\\n  .format('org.apache.spark.sql.execution.datasources.csv.CSVFileFormat')\\\n  .option('header', 'true')\\\n  .load(cos.url('heart.csv', 'advanceddatasciencecapstone-donotdelete-pr-mtw6x2ncrafpz4'))\ndf_data_1.take(5)\n", 
            "cell_type": "code", 
            "metadata": {}, 
            "outputs": [
                {
                    "output_type": "execute_result", 
                    "data": {
                        "text/plain": "[Row(age='63', sex='1', cp='3', trestbps='145', chol='233', fbs='1', restecg='0', thalach='150', exang='0', oldpeak='2.3', slope='0', ca='0', thal='1', target='1'),\n Row(age='37', sex='1', cp='2', trestbps='130', chol='250', fbs='0', restecg='1', thalach='187', exang='0', oldpeak='3.5', slope='0', ca='0', thal='2', target='1'),\n Row(age='41', sex='0', cp='1', trestbps='130', chol='204', fbs='0', restecg='0', thalach='172', exang='0', oldpeak='1.4', slope='2', ca='0', thal='2', target='1'),\n Row(age='56', sex='1', cp='1', trestbps='120', chol='236', fbs='0', restecg='1', thalach='178', exang='0', oldpeak='0.8', slope='2', ca='0', thal='2', target='1'),\n Row(age='57', sex='0', cp='0', trestbps='120', chol='354', fbs='0', restecg='1', thalach='163', exang='1', oldpeak='0.6', slope='2', ca='0', thal='2', target='1')]"
                    }, 
                    "execution_count": 27, 
                    "metadata": {}
                }
            ], 
            "execution_count": 27
        }, 
        {
            "source": "<h2>Data Exploration </h2>", 
            "cell_type": "markdown", 
            "metadata": {}
        }, 
        {
            "source": "df_data_1.show()", 
            "cell_type": "code", 
            "metadata": {}, 
            "outputs": [
                {
                    "output_type": "stream", 
                    "name": "stdout", 
                    "text": "+---+---+---+--------+----+---+-------+-------+-----+-------+-----+---+----+------+\n|age|sex| cp|trestbps|chol|fbs|restecg|thalach|exang|oldpeak|slope| ca|thal|target|\n+---+---+---+--------+----+---+-------+-------+-----+-------+-----+---+----+------+\n| 63|  1|  3|     145| 233|  1|      0|    150|    0|    2.3|    0|  0|   1|     1|\n| 37|  1|  2|     130| 250|  0|      1|    187|    0|    3.5|    0|  0|   2|     1|\n| 41|  0|  1|     130| 204|  0|      0|    172|    0|    1.4|    2|  0|   2|     1|\n| 56|  1|  1|     120| 236|  0|      1|    178|    0|    0.8|    2|  0|   2|     1|\n| 57|  0|  0|     120| 354|  0|      1|    163|    1|    0.6|    2|  0|   2|     1|\n| 57|  1|  0|     140| 192|  0|      1|    148|    0|    0.4|    1|  0|   1|     1|\n| 56|  0|  1|     140| 294|  0|      0|    153|    0|    1.3|    1|  0|   2|     1|\n| 44|  1|  1|     120| 263|  0|      1|    173|    0|      0|    2|  0|   3|     1|\n| 52|  1|  2|     172| 199|  1|      1|    162|    0|    0.5|    2|  0|   3|     1|\n| 57|  1|  2|     150| 168|  0|      1|    174|    0|    1.6|    2|  0|   2|     1|\n| 54|  1|  0|     140| 239|  0|      1|    160|    0|    1.2|    2|  0|   2|     1|\n| 48|  0|  2|     130| 275|  0|      1|    139|    0|    0.2|    2|  0|   2|     1|\n| 49|  1|  1|     130| 266|  0|      1|    171|    0|    0.6|    2|  0|   2|     1|\n| 64|  1|  3|     110| 211|  0|      0|    144|    1|    1.8|    1|  0|   2|     1|\n| 58|  0|  3|     150| 283|  1|      0|    162|    0|      1|    2|  0|   2|     1|\n| 50|  0|  2|     120| 219|  0|      1|    158|    0|    1.6|    1|  0|   2|     1|\n| 58|  0|  2|     120| 340|  0|      1|    172|    0|      0|    2|  0|   2|     1|\n| 66|  0|  3|     150| 226|  0|      1|    114|    0|    2.6|    0|  0|   2|     1|\n| 43|  1|  0|     150| 247|  0|      1|    171|    0|    1.5|    2|  0|   2|     1|\n| 69|  0|  3|     140| 239|  0|      1|    151|    0|    1.8|    2|  2|   2|     1|\n+---+---+---+--------+----+---+-------+-------+-----+-------+-----+---+----+------+\nonly showing top 20 rows\n\n"
                }
            ], 
            "execution_count": 28
        }, 
        {
            "source": "<b>--> Check data types</b>", 
            "cell_type": "markdown", 
            "metadata": {}
        }, 
        {
            "source": "df_data_1.printSchema()", 
            "cell_type": "code", 
            "metadata": {}, 
            "outputs": [
                {
                    "output_type": "stream", 
                    "name": "stdout", 
                    "text": "root\n |-- age: string (nullable = true)\n |-- sex: string (nullable = true)\n |-- cp: string (nullable = true)\n |-- trestbps: string (nullable = true)\n |-- chol: string (nullable = true)\n |-- fbs: string (nullable = true)\n |-- restecg: string (nullable = true)\n |-- thalach: string (nullable = true)\n |-- exang: string (nullable = true)\n |-- oldpeak: string (nullable = true)\n |-- slope: string (nullable = true)\n |-- ca: string (nullable = true)\n |-- thal: string (nullable = true)\n |-- target: string (nullable = true)\n\n"
                }
            ], 
            "execution_count": 29
        }, 
        {
            "source": "<b>--> Descriptinve statistics to better understand the data</b>", 
            "cell_type": "markdown", 
            "metadata": {}
        }, 
        {
            "source": "df_data_1.describe().show()\n", 
            "cell_type": "code", 
            "metadata": {}, 
            "outputs": [
                {
                    "output_type": "stream", 
                    "name": "stdout", 
                    "text": "+-------+------------------+-------------------+------------------+------------------+------------------+-------------------+-----------------+------------------+-------------------+------------------+------------------+------------------+------------------+------------------+\n|summary|               age|                sex|                cp|          trestbps|              chol|                fbs|          restecg|           thalach|              exang|           oldpeak|             slope|                ca|              thal|            target|\n+-------+------------------+-------------------+------------------+------------------+------------------+-------------------+-----------------+------------------+-------------------+------------------+------------------+------------------+------------------+------------------+\n|  count|               303|                303|               303|               303|               303|                303|              303|               303|                303|               303|               303|               303|               303|               303|\n|   mean|54.366336633663366| 0.6831683168316832| 0.966996699669967|131.62376237623764|246.26402640264027| 0.1485148514851485|0.528052805280528|149.64686468646866|0.32673267326732675|1.0396039603960396|1.3993399339933994|0.7293729372937293|2.3135313531353137|0.5445544554455446|\n| stddev|  9.08210098983786|0.46601082333962385|1.0320524894832983|  17.5381428135171| 51.83075098793005|0.35619787492797644|0.525859596359298| 22.90516111491409|0.46979446452231655|1.1610750220686346|0.6162261453459622|1.0226063649693276|0.6122765072781408|0.4988347841643915|\n|    min|                29|                  0|                 0|               100|               126|                  0|                0|               103|                  0|                 0|                 0|                 0|                 0|                 0|\n|    max|                77|                  1|                 3|                94|               564|                  1|                2|                99|                  1|               6.2|                 2|                 4|                 3|                 1|\n+-------+------------------+-------------------+------------------+------------------+------------------+-------------------+-----------------+------------------+-------------------+------------------+------------------+------------------+------------------+------------------+\n\n"
                }
            ], 
            "execution_count": 30
        }, 
        {
            "source": "<H2>Transforming the data</H2>\n<b>--> String data types are not correct. Necessary to transofrm in Integer and Doubles</b>", 
            "cell_type": "markdown", 
            "metadata": {}
        }, 
        {
            "source": "df_data_1 = df_data_1.select(df_data_1.age.cast(\"int\"),\n                             df_data_1.sex.cast(\"int\"),\n                             df_data_1.cp.cast(\"int\"),\n                             df_data_1.trestbps.cast(\"int\"),\n                             df_data_1.chol.cast(\"int\"),\n                             df_data_1.fbs.cast(\"int\"),\n                             df_data_1.restecg.cast(\"int\"),\n                             df_data_1.thalach.cast(\"int\"),\n                             df_data_1.exang.cast(\"int\"),\n                             df_data_1.oldpeak.cast(\"double\"),\n                             df_data_1.slope.cast(\"int\"),\n                             df_data_1.ca.cast(\"int\"),\n                             df_data_1.thal.cast(\"int\"),\n                             df_data_1.target.cast(\"int\"))\n\n\ndf_data_1.printSchema()", 
            "cell_type": "code", 
            "metadata": {
                "scrolled": true
            }, 
            "outputs": [
                {
                    "output_type": "stream", 
                    "name": "stdout", 
                    "text": "root\n |-- age: integer (nullable = true)\n |-- sex: integer (nullable = true)\n |-- cp: integer (nullable = true)\n |-- trestbps: integer (nullable = true)\n |-- chol: integer (nullable = true)\n |-- fbs: integer (nullable = true)\n |-- restecg: integer (nullable = true)\n |-- thalach: integer (nullable = true)\n |-- exang: integer (nullable = true)\n |-- oldpeak: double (nullable = true)\n |-- slope: integer (nullable = true)\n |-- ca: integer (nullable = true)\n |-- thal: integer (nullable = true)\n |-- target: integer (nullable = true)\n\n"
                }
            ], 
            "execution_count": 31
        }, 
        {
            "source": "<H2>Split the dataset in train and test subsets</H2>", 
            "cell_type": "markdown", 
            "metadata": {}
        }, 
        {
            "source": "splits = df_data_1.randomSplit([0.8, 0.2])\ndf_train = splits[0]\ndf_test = splits[1]", 
            "cell_type": "code", 
            "metadata": {}, 
            "outputs": [], 
            "execution_count": 32
        }, 
        {
            "source": "<H2>Feature Creation</H2>", 
            "cell_type": "markdown", 
            "metadata": {}
        }, 
        {
            "source": "from pyspark.ml.feature import StringIndexer\nfrom pyspark.ml.linalg import Vectors\nfrom pyspark.ml.feature import VectorAssembler\nfrom pyspark.ml.feature import Normalizer\n\n\nindexer = StringIndexer(inputCol=\"target\", outputCol=\"label\")\n\nvectorAssembler = VectorAssembler(inputCols=[\"age\",\"sex\",\"cp\", \"trestbps\", \"chol\", \"fbs\", \"restecg\", \"thalach\", \"exang\", \"oldpeak\", \"slope\", \"ca\", \"thal\"],\n                                  outputCol=\"features\")\n\nnormalizer = Normalizer(inputCol=\"features\", outputCol=\"features_norm\", p=1.0)", 
            "cell_type": "code", 
            "metadata": {}, 
            "outputs": [], 
            "execution_count": 33
        }, 
        {
            "source": "<H2>Model Definition</H2>", 
            "cell_type": "markdown", 
            "metadata": {}
        }, 
        {
            "source": "from pyspark.ml.classification import LogisticRegression\n\nlr = LogisticRegression(maxIter=10, regParam=0.3, elasticNetParam=0.8)", 
            "cell_type": "code", 
            "metadata": {}, 
            "outputs": [], 
            "execution_count": 34
        }, 
        {
            "source": "from pyspark.ml import Pipeline\npipeline = Pipeline(stages=[indexer, vectorAssembler, normalizer,lr])", 
            "cell_type": "code", 
            "metadata": {}, 
            "outputs": [], 
            "execution_count": 35
        }, 
        {
            "source": "<H2>Model Training</H2>", 
            "cell_type": "markdown", 
            "metadata": {}
        }, 
        {
            "source": "model = pipeline.fit(df_train)", 
            "cell_type": "code", 
            "metadata": {}, 
            "outputs": [], 
            "execution_count": 36
        }, 
        {
            "source": "prediction = model.transform(df_train)", 
            "cell_type": "code", 
            "metadata": {}, 
            "outputs": [], 
            "execution_count": 37
        }, 
        {
            "source": "prediction.printSchema()", 
            "cell_type": "code", 
            "metadata": {}, 
            "outputs": [
                {
                    "output_type": "stream", 
                    "name": "stdout", 
                    "text": "root\n |-- age: integer (nullable = true)\n |-- sex: integer (nullable = true)\n |-- cp: integer (nullable = true)\n |-- trestbps: integer (nullable = true)\n |-- chol: integer (nullable = true)\n |-- fbs: integer (nullable = true)\n |-- restecg: integer (nullable = true)\n |-- thalach: integer (nullable = true)\n |-- exang: integer (nullable = true)\n |-- oldpeak: double (nullable = true)\n |-- slope: integer (nullable = true)\n |-- ca: integer (nullable = true)\n |-- thal: integer (nullable = true)\n |-- target: integer (nullable = true)\n |-- label: double (nullable = false)\n |-- features: vector (nullable = true)\n |-- features_norm: vector (nullable = true)\n |-- rawPrediction: vector (nullable = true)\n |-- probability: vector (nullable = true)\n |-- prediction: double (nullable = false)\n\n"
                }
            ], 
            "execution_count": 38
        }, 
        {
            "source": "prediction.show()", 
            "cell_type": "code", 
            "metadata": {}, 
            "outputs": [
                {
                    "output_type": "stream", 
                    "name": "stdout", 
                    "text": "+---+---+---+--------+----+---+-------+-------+-----+-------+-----+---+----+------+-----+--------------------+--------------------+--------------------+--------------------+----------+\n|age|sex| cp|trestbps|chol|fbs|restecg|thalach|exang|oldpeak|slope| ca|thal|target|label|            features|       features_norm|       rawPrediction|         probability|prediction|\n+---+---+---+--------+----+---+-------+-------+-----+-------+-----+---+----+------+-----+--------------------+--------------------+--------------------+--------------------+----------+\n| 34|  0|  1|     118| 210|  0|      1|    192|    0|    0.7|    2|  0|   2|     1|  0.0|[34.0,0.0,1.0,118...|[0.06063848760477...|[0.23590580292806...|[0.55870445344129...|       0.0|\n| 34|  1|  3|     118| 182|  0|      0|    174|    0|    0.0|    2|  0|   2|     1|  0.0|[34.0,1.0,3.0,118...|[0.06589147286821...|[0.23590580292806...|[0.55870445344129...|       0.0|\n| 35|  0|  0|     138| 183|  0|      1|    182|    0|    1.4|    2|  0|   2|     1|  0.0|[35.0,0.0,0.0,138...|[0.06429096252755...|[0.23590580292806...|[0.55870445344129...|       0.0|\n| 35|  1|  0|     120| 198|  0|      1|    130|    1|    1.6|    1|  0|   3|     0|  1.0|[35.0,1.0,0.0,120...|[0.07119609438567...|[0.23590580292806...|[0.55870445344129...|       0.0|\n| 35|  1|  0|     126| 282|  0|      0|    156|    1|    0.0|    2|  0|   3|     0|  1.0|[35.0,1.0,0.0,126...|[0.05775577557755...|[0.23590580292806...|[0.55870445344129...|       0.0|\n| 35|  1|  1|     122| 192|  0|      1|    174|    0|    0.0|    2|  0|   2|     1|  0.0|[35.0,1.0,1.0,122...|[0.06603773584905...|[0.23590580292806...|[0.55870445344129...|       0.0|\n| 37|  0|  2|     120| 215|  0|      1|    170|    0|    0.0|    2|  0|   2|     1|  0.0|[37.0,0.0,2.0,120...|[0.06739526411657...|[0.23590580292806...|[0.55870445344129...|       0.0|\n| 37|  1|  2|     130| 250|  0|      1|    187|    0|    3.5|    0|  0|   2|     1|  0.0|[37.0,1.0,2.0,130...|[0.06030969845150...|[0.23590580292806...|[0.55870445344129...|       0.0|\n| 38|  1|  2|     138| 175|  0|      1|    173|    0|    0.0|    2|  4|   2|     1|  0.0|[38.0,1.0,2.0,138...|[0.07089552238805...|[0.23590580292806...|[0.55870445344129...|       0.0|\n| 38|  1|  3|     120| 231|  0|      1|    182|    1|    3.8|    1|  0|   3|     0|  1.0|[38.0,1.0,3.0,120...|[0.06497948016415...|[0.23590580292806...|[0.55870445344129...|       0.0|\n| 39|  0|  2|      94| 199|  0|      1|    179|    0|    0.0|    2|  0|   2|     1|  0.0|[39.0,0.0,2.0,94....|[0.07528957528957...|[0.23590580292806...|[0.55870445344129...|       0.0|\n| 39|  0|  2|     138| 220|  0|      1|    152|    0|    0.0|    1|  0|   2|     1|  0.0|[39.0,0.0,2.0,138...|[0.07027027027027...|[0.23590580292806...|[0.55870445344129...|       0.0|\n| 39|  1|  0|     118| 219|  0|      1|    140|    0|    1.2|    1|  0|   3|     0|  1.0|[39.0,1.0,0.0,118...|[0.07454128440366...|[0.23590580292806...|[0.55870445344129...|       0.0|\n| 39|  1|  2|     140| 321|  0|      0|    182|    0|    0.0|    2|  0|   2|     1|  0.0|[39.0,1.0,2.0,140...|[0.05660377358490...|[0.23590580292806...|[0.55870445344129...|       0.0|\n| 40|  1|  0|     110| 167|  0|      0|    114|    1|    2.0|    1|  0|   3|     0|  1.0|[40.0,1.0,0.0,110...|[0.09111617312072...|[0.23590580292806...|[0.55870445344129...|       0.0|\n| 40|  1|  0|     152| 223|  0|      1|    181|    0|    0.0|    2|  0|   3|     0|  1.0|[40.0,1.0,0.0,152...|[0.06633499170812...|[0.23590580292806...|[0.55870445344129...|       0.0|\n| 40|  1|  3|     140| 199|  0|      1|    178|    1|    1.4|    2|  0|   3|     1|  0.0|[40.0,1.0,3.0,140...|[0.07024938531787...|[0.23590580292806...|[0.55870445344129...|       0.0|\n| 41|  0|  1|     105| 198|  0|      1|    168|    0|    0.0|    2|  1|   2|     1|  0.0|[41.0,0.0,1.0,105...|[0.07899807321772...|[0.23590580292806...|[0.55870445344129...|       0.0|\n| 41|  0|  1|     126| 306|  0|      1|    163|    0|    0.0|    2|  0|   2|     1|  0.0|[41.0,0.0,1.0,126...|[0.06386292834890...|[0.23590580292806...|[0.55870445344129...|       0.0|\n| 41|  0|  1|     130| 204|  0|      0|    172|    0|    1.4|    2|  0|   2|     1|  0.0|[41.0,0.0,1.0,130...|[0.07408745934224...|[0.23590580292806...|[0.55870445344129...|       0.0|\n+---+---+---+--------+----+---+-------+-------+-----+-------+-----+---+----+------+-----+--------------------+--------------------+--------------------+--------------------+----------+\nonly showing top 20 rows\n\n"
                }
            ], 
            "execution_count": 39
        }, 
        {
            "source": "<h2>Model Evaluation</h2>", 
            "cell_type": "markdown", 
            "metadata": {}
        }, 
        {
            "source": "from pyspark.ml.evaluation import MulticlassClassificationEvaluator\nbinEval = MulticlassClassificationEvaluator().setMetricName(\"accuracy\") .setPredictionCol(\"prediction\").setLabelCol(\"label\")\n\nbinEval.evaluate(prediction)", 
            "cell_type": "code", 
            "metadata": {}, 
            "outputs": [
                {
                    "output_type": "execute_result", 
                    "data": {
                        "text/plain": "0.5587044534412956"
                    }, 
                    "execution_count": 40, 
                    "metadata": {}
                }
            ], 
            "execution_count": 40
        }, 
        {
            "source": "prediction = model.transform(df_test)", 
            "cell_type": "code", 
            "metadata": {}, 
            "outputs": [], 
            "execution_count": 41
        }, 
        {
            "source": "binEval.evaluate(prediction)", 
            "cell_type": "code", 
            "metadata": {}, 
            "outputs": [
                {
                    "output_type": "execute_result", 
                    "data": {
                        "text/plain": "0.48214285714285715"
                    }, 
                    "execution_count": 42, 
                    "metadata": {}
                }
            ], 
            "execution_count": 42
        }, 
        {
            "source": "<h1>Let's do it now with deep learning. Simple Logistic Regression using Keras.</h1>", 
            "cell_type": "markdown", 
            "metadata": {}
        }, 
        {
            "source": "This is an example of binary\u2014or two-class\u2014classification, an important and widely applicable kind of machine learning problem.", 
            "cell_type": "markdown", 
            "metadata": {}
        }, 
        {
            "source": "from keras.models import Sequential\nfrom keras.layers import Dense", 
            "cell_type": "code", 
            "metadata": {}, 
            "outputs": [], 
            "execution_count": 43
        }, 
        {
            "source": "import types\nimport pandas as pd\nfrom botocore.client import Config\nimport ibm_boto3\n\ndef __iter__(self): return 0\n\n# @hidden_cell\n# The following code accesses a file in your IBM Cloud Object Storage. It includes your credentials.\n# You might want to remove those credentials before you share your notebook.\nclient_90efa9cd5cc84a68b8514f708ed4b4d9 = ibm_boto3.client(service_name='s3',\n    ibm_api_key_id='XUQ-Bcmlkr3wSlWTHTIUElgBRwJNjnU7WnudKr9NbyxE',\n    ibm_auth_endpoint=\"https://iam.bluemix.net/oidc/token\",\n    config=Config(signature_version='oauth'),\n    endpoint_url='https://s3-api.us-geo.objectstorage.service.networklayer.com')\n\nbody = client_90efa9cd5cc84a68b8514f708ed4b4d9.get_object(Bucket='advanceddatasciencecapstone-donotdelete-pr-mtw6x2ncrafpz4',Key='heart.csv')['Body']\n# add missing __iter__ method, so pandas accepts body as file-like object\nif not hasattr(body, \"__iter__\"): body.__iter__ = types.MethodType( __iter__, body )\n\ndataset = pd.read_csv(body)\ndataset", 
            "cell_type": "code", 
            "metadata": {}, 
            "outputs": [
                {
                    "output_type": "execute_result", 
                    "data": {
                        "text/plain": "     age  sex  cp  trestbps  chol  fbs  restecg  thalach  exang  oldpeak  \\\n0     63    1   3       145   233    1        0      150      0      2.3   \n1     37    1   2       130   250    0        1      187      0      3.5   \n2     41    0   1       130   204    0        0      172      0      1.4   \n3     56    1   1       120   236    0        1      178      0      0.8   \n4     57    0   0       120   354    0        1      163      1      0.6   \n5     57    1   0       140   192    0        1      148      0      0.4   \n6     56    0   1       140   294    0        0      153      0      1.3   \n7     44    1   1       120   263    0        1      173      0      0.0   \n8     52    1   2       172   199    1        1      162      0      0.5   \n9     57    1   2       150   168    0        1      174      0      1.6   \n10    54    1   0       140   239    0        1      160      0      1.2   \n11    48    0   2       130   275    0        1      139      0      0.2   \n12    49    1   1       130   266    0        1      171      0      0.6   \n13    64    1   3       110   211    0        0      144      1      1.8   \n14    58    0   3       150   283    1        0      162      0      1.0   \n15    50    0   2       120   219    0        1      158      0      1.6   \n16    58    0   2       120   340    0        1      172      0      0.0   \n17    66    0   3       150   226    0        1      114      0      2.6   \n18    43    1   0       150   247    0        1      171      0      1.5   \n19    69    0   3       140   239    0        1      151      0      1.8   \n20    59    1   0       135   234    0        1      161      0      0.5   \n21    44    1   2       130   233    0        1      179      1      0.4   \n22    42    1   0       140   226    0        1      178      0      0.0   \n23    61    1   2       150   243    1        1      137      1      1.0   \n24    40    1   3       140   199    0        1      178      1      1.4   \n25    71    0   1       160   302    0        1      162      0      0.4   \n26    59    1   2       150   212    1        1      157      0      1.6   \n27    51    1   2       110   175    0        1      123      0      0.6   \n28    65    0   2       140   417    1        0      157      0      0.8   \n29    53    1   2       130   197    1        0      152      0      1.2   \n..   ...  ...  ..       ...   ...  ...      ...      ...    ...      ...   \n273   58    1   0       100   234    0        1      156      0      0.1   \n274   47    1   0       110   275    0        0      118      1      1.0   \n275   52    1   0       125   212    0        1      168      0      1.0   \n276   58    1   0       146   218    0        1      105      0      2.0   \n277   57    1   1       124   261    0        1      141      0      0.3   \n278   58    0   1       136   319    1        0      152      0      0.0   \n279   61    1   0       138   166    0        0      125      1      3.6   \n280   42    1   0       136   315    0        1      125      1      1.8   \n281   52    1   0       128   204    1        1      156      1      1.0   \n282   59    1   2       126   218    1        1      134      0      2.2   \n283   40    1   0       152   223    0        1      181      0      0.0   \n284   61    1   0       140   207    0        0      138      1      1.9   \n285   46    1   0       140   311    0        1      120      1      1.8   \n286   59    1   3       134   204    0        1      162      0      0.8   \n287   57    1   1       154   232    0        0      164      0      0.0   \n288   57    1   0       110   335    0        1      143      1      3.0   \n289   55    0   0       128   205    0        2      130      1      2.0   \n290   61    1   0       148   203    0        1      161      0      0.0   \n291   58    1   0       114   318    0        2      140      0      4.4   \n292   58    0   0       170   225    1        0      146      1      2.8   \n293   67    1   2       152   212    0        0      150      0      0.8   \n294   44    1   0       120   169    0        1      144      1      2.8   \n295   63    1   0       140   187    0        0      144      1      4.0   \n296   63    0   0       124   197    0        1      136      1      0.0   \n297   59    1   0       164   176    1        0       90      0      1.0   \n298   57    0   0       140   241    0        1      123      1      0.2   \n299   45    1   3       110   264    0        1      132      0      1.2   \n300   68    1   0       144   193    1        1      141      0      3.4   \n301   57    1   0       130   131    0        1      115      1      1.2   \n302   57    0   1       130   236    0        0      174      0      0.0   \n\n     slope  ca  thal  target  \n0        0   0     1       1  \n1        0   0     2       1  \n2        2   0     2       1  \n3        2   0     2       1  \n4        2   0     2       1  \n5        1   0     1       1  \n6        1   0     2       1  \n7        2   0     3       1  \n8        2   0     3       1  \n9        2   0     2       1  \n10       2   0     2       1  \n11       2   0     2       1  \n12       2   0     2       1  \n13       1   0     2       1  \n14       2   0     2       1  \n15       1   0     2       1  \n16       2   0     2       1  \n17       0   0     2       1  \n18       2   0     2       1  \n19       2   2     2       1  \n20       1   0     3       1  \n21       2   0     2       1  \n22       2   0     2       1  \n23       1   0     2       1  \n24       2   0     3       1  \n25       2   2     2       1  \n26       2   0     2       1  \n27       2   0     2       1  \n28       2   1     2       1  \n29       0   0     2       1  \n..     ...  ..   ...     ...  \n273      2   1     3       0  \n274      1   1     2       0  \n275      2   2     3       0  \n276      1   1     3       0  \n277      2   0     3       0  \n278      2   2     2       0  \n279      1   1     2       0  \n280      1   0     1       0  \n281      1   0     0       0  \n282      1   1     1       0  \n283      2   0     3       0  \n284      2   1     3       0  \n285      1   2     3       0  \n286      2   2     2       0  \n287      2   1     2       0  \n288      1   1     3       0  \n289      1   1     3       0  \n290      2   1     3       0  \n291      0   3     1       0  \n292      1   2     1       0  \n293      1   0     3       0  \n294      0   0     1       0  \n295      2   2     3       0  \n296      1   0     2       0  \n297      1   2     1       0  \n298      1   0     3       0  \n299      1   0     3       0  \n300      1   2     3       0  \n301      1   1     3       0  \n302      1   1     2       0  \n\n[303 rows x 14 columns]", 
                        "text/html": "<div>\n<style scoped>\n    .dataframe tbody tr th:only-of-type {\n        vertical-align: middle;\n    }\n\n    .dataframe tbody tr th {\n        vertical-align: top;\n    }\n\n    .dataframe thead th {\n        text-align: right;\n    }\n</style>\n<table border=\"1\" class=\"dataframe\">\n  <thead>\n    <tr style=\"text-align: right;\">\n      <th></th>\n      <th>age</th>\n      <th>sex</th>\n      <th>cp</th>\n      <th>trestbps</th>\n      <th>chol</th>\n      <th>fbs</th>\n      <th>restecg</th>\n      <th>thalach</th>\n      <th>exang</th>\n      <th>oldpeak</th>\n      <th>slope</th>\n      <th>ca</th>\n      <th>thal</th>\n      <th>target</th>\n    </tr>\n  </thead>\n  <tbody>\n    <tr>\n      <th>0</th>\n      <td>63</td>\n      <td>1</td>\n      <td>3</td>\n      <td>145</td>\n      <td>233</td>\n      <td>1</td>\n      <td>0</td>\n      <td>150</td>\n      <td>0</td>\n      <td>2.3</td>\n      <td>0</td>\n      <td>0</td>\n      <td>1</td>\n      <td>1</td>\n    </tr>\n    <tr>\n      <th>1</th>\n      <td>37</td>\n      <td>1</td>\n      <td>2</td>\n      <td>130</td>\n      <td>250</td>\n      <td>0</td>\n      <td>1</td>\n      <td>187</td>\n      <td>0</td>\n      <td>3.5</td>\n      <td>0</td>\n      <td>0</td>\n      <td>2</td>\n      <td>1</td>\n    </tr>\n    <tr>\n      <th>2</th>\n      <td>41</td>\n      <td>0</td>\n      <td>1</td>\n      <td>130</td>\n      <td>204</td>\n      <td>0</td>\n      <td>0</td>\n      <td>172</td>\n      <td>0</td>\n      <td>1.4</td>\n      <td>2</td>\n      <td>0</td>\n      <td>2</td>\n      <td>1</td>\n    </tr>\n    <tr>\n      <th>3</th>\n      <td>56</td>\n      <td>1</td>\n      <td>1</td>\n      <td>120</td>\n      <td>236</td>\n      <td>0</td>\n      <td>1</td>\n      <td>178</td>\n      <td>0</td>\n      <td>0.8</td>\n      <td>2</td>\n      <td>0</td>\n      <td>2</td>\n      <td>1</td>\n    </tr>\n    <tr>\n      <th>4</th>\n      <td>57</td>\n      <td>0</td>\n      <td>0</td>\n      <td>120</td>\n      <td>354</td>\n      <td>0</td>\n      <td>1</td>\n      <td>163</td>\n      <td>1</td>\n      <td>0.6</td>\n      <td>2</td>\n      <td>0</td>\n      <td>2</td>\n      <td>1</td>\n    </tr>\n    <tr>\n      <th>5</th>\n      <td>57</td>\n      <td>1</td>\n      <td>0</td>\n      <td>140</td>\n      <td>192</td>\n      <td>0</td>\n      <td>1</td>\n      <td>148</td>\n      <td>0</td>\n      <td>0.4</td>\n      <td>1</td>\n      <td>0</td>\n      <td>1</td>\n      <td>1</td>\n    </tr>\n    <tr>\n      <th>6</th>\n      <td>56</td>\n      <td>0</td>\n      <td>1</td>\n      <td>140</td>\n      <td>294</td>\n      <td>0</td>\n      <td>0</td>\n      <td>153</td>\n      <td>0</td>\n      <td>1.3</td>\n      <td>1</td>\n      <td>0</td>\n      <td>2</td>\n      <td>1</td>\n    </tr>\n    <tr>\n      <th>7</th>\n      <td>44</td>\n      <td>1</td>\n      <td>1</td>\n      <td>120</td>\n      <td>263</td>\n      <td>0</td>\n      <td>1</td>\n      <td>173</td>\n      <td>0</td>\n      <td>0.0</td>\n      <td>2</td>\n      <td>0</td>\n      <td>3</td>\n      <td>1</td>\n    </tr>\n    <tr>\n      <th>8</th>\n      <td>52</td>\n      <td>1</td>\n      <td>2</td>\n      <td>172</td>\n      <td>199</td>\n      <td>1</td>\n      <td>1</td>\n      <td>162</td>\n      <td>0</td>\n      <td>0.5</td>\n      <td>2</td>\n      <td>0</td>\n      <td>3</td>\n      <td>1</td>\n    </tr>\n    <tr>\n      <th>9</th>\n      <td>57</td>\n      <td>1</td>\n      <td>2</td>\n      <td>150</td>\n      <td>168</td>\n      <td>0</td>\n      <td>1</td>\n      <td>174</td>\n      <td>0</td>\n      <td>1.6</td>\n      <td>2</td>\n      <td>0</td>\n      <td>2</td>\n      <td>1</td>\n    </tr>\n    <tr>\n      <th>10</th>\n      <td>54</td>\n      <td>1</td>\n      <td>0</td>\n      <td>140</td>\n      <td>239</td>\n      <td>0</td>\n      <td>1</td>\n      <td>160</td>\n      <td>0</td>\n      <td>1.2</td>\n      <td>2</td>\n      <td>0</td>\n      <td>2</td>\n      <td>1</td>\n    </tr>\n    <tr>\n      <th>11</th>\n      <td>48</td>\n      <td>0</td>\n      <td>2</td>\n      <td>130</td>\n      <td>275</td>\n      <td>0</td>\n      <td>1</td>\n      <td>139</td>\n      <td>0</td>\n      <td>0.2</td>\n      <td>2</td>\n      <td>0</td>\n      <td>2</td>\n      <td>1</td>\n    </tr>\n    <tr>\n      <th>12</th>\n      <td>49</td>\n      <td>1</td>\n      <td>1</td>\n      <td>130</td>\n      <td>266</td>\n      <td>0</td>\n      <td>1</td>\n      <td>171</td>\n      <td>0</td>\n      <td>0.6</td>\n      <td>2</td>\n      <td>0</td>\n      <td>2</td>\n      <td>1</td>\n    </tr>\n    <tr>\n      <th>13</th>\n      <td>64</td>\n      <td>1</td>\n      <td>3</td>\n      <td>110</td>\n      <td>211</td>\n      <td>0</td>\n      <td>0</td>\n      <td>144</td>\n      <td>1</td>\n      <td>1.8</td>\n      <td>1</td>\n      <td>0</td>\n      <td>2</td>\n      <td>1</td>\n    </tr>\n    <tr>\n      <th>14</th>\n      <td>58</td>\n      <td>0</td>\n      <td>3</td>\n      <td>150</td>\n      <td>283</td>\n      <td>1</td>\n      <td>0</td>\n      <td>162</td>\n      <td>0</td>\n      <td>1.0</td>\n      <td>2</td>\n      <td>0</td>\n      <td>2</td>\n      <td>1</td>\n    </tr>\n    <tr>\n      <th>15</th>\n      <td>50</td>\n      <td>0</td>\n      <td>2</td>\n      <td>120</td>\n      <td>219</td>\n      <td>0</td>\n      <td>1</td>\n      <td>158</td>\n      <td>0</td>\n      <td>1.6</td>\n      <td>1</td>\n      <td>0</td>\n      <td>2</td>\n      <td>1</td>\n    </tr>\n    <tr>\n      <th>16</th>\n      <td>58</td>\n      <td>0</td>\n      <td>2</td>\n      <td>120</td>\n      <td>340</td>\n      <td>0</td>\n      <td>1</td>\n      <td>172</td>\n      <td>0</td>\n      <td>0.0</td>\n      <td>2</td>\n      <td>0</td>\n      <td>2</td>\n      <td>1</td>\n    </tr>\n    <tr>\n      <th>17</th>\n      <td>66</td>\n      <td>0</td>\n      <td>3</td>\n      <td>150</td>\n      <td>226</td>\n      <td>0</td>\n      <td>1</td>\n      <td>114</td>\n      <td>0</td>\n      <td>2.6</td>\n      <td>0</td>\n      <td>0</td>\n      <td>2</td>\n      <td>1</td>\n    </tr>\n    <tr>\n      <th>18</th>\n      <td>43</td>\n      <td>1</td>\n      <td>0</td>\n      <td>150</td>\n      <td>247</td>\n      <td>0</td>\n      <td>1</td>\n      <td>171</td>\n      <td>0</td>\n      <td>1.5</td>\n      <td>2</td>\n      <td>0</td>\n      <td>2</td>\n      <td>1</td>\n    </tr>\n    <tr>\n      <th>19</th>\n      <td>69</td>\n      <td>0</td>\n      <td>3</td>\n      <td>140</td>\n      <td>239</td>\n      <td>0</td>\n      <td>1</td>\n      <td>151</td>\n      <td>0</td>\n      <td>1.8</td>\n      <td>2</td>\n      <td>2</td>\n      <td>2</td>\n      <td>1</td>\n    </tr>\n    <tr>\n      <th>20</th>\n      <td>59</td>\n      <td>1</td>\n      <td>0</td>\n      <td>135</td>\n      <td>234</td>\n      <td>0</td>\n      <td>1</td>\n      <td>161</td>\n      <td>0</td>\n      <td>0.5</td>\n      <td>1</td>\n      <td>0</td>\n      <td>3</td>\n      <td>1</td>\n    </tr>\n    <tr>\n      <th>21</th>\n      <td>44</td>\n      <td>1</td>\n      <td>2</td>\n      <td>130</td>\n      <td>233</td>\n      <td>0</td>\n      <td>1</td>\n      <td>179</td>\n      <td>1</td>\n      <td>0.4</td>\n      <td>2</td>\n      <td>0</td>\n      <td>2</td>\n      <td>1</td>\n    </tr>\n    <tr>\n      <th>22</th>\n      <td>42</td>\n      <td>1</td>\n      <td>0</td>\n      <td>140</td>\n      <td>226</td>\n      <td>0</td>\n      <td>1</td>\n      <td>178</td>\n      <td>0</td>\n      <td>0.0</td>\n      <td>2</td>\n      <td>0</td>\n      <td>2</td>\n      <td>1</td>\n    </tr>\n    <tr>\n      <th>23</th>\n      <td>61</td>\n      <td>1</td>\n      <td>2</td>\n      <td>150</td>\n      <td>243</td>\n      <td>1</td>\n      <td>1</td>\n      <td>137</td>\n      <td>1</td>\n      <td>1.0</td>\n      <td>1</td>\n      <td>0</td>\n      <td>2</td>\n      <td>1</td>\n    </tr>\n    <tr>\n      <th>24</th>\n      <td>40</td>\n      <td>1</td>\n      <td>3</td>\n      <td>140</td>\n      <td>199</td>\n      <td>0</td>\n      <td>1</td>\n      <td>178</td>\n      <td>1</td>\n      <td>1.4</td>\n      <td>2</td>\n      <td>0</td>\n      <td>3</td>\n      <td>1</td>\n    </tr>\n    <tr>\n      <th>25</th>\n      <td>71</td>\n      <td>0</td>\n      <td>1</td>\n      <td>160</td>\n      <td>302</td>\n      <td>0</td>\n      <td>1</td>\n      <td>162</td>\n      <td>0</td>\n      <td>0.4</td>\n      <td>2</td>\n      <td>2</td>\n      <td>2</td>\n      <td>1</td>\n    </tr>\n    <tr>\n      <th>26</th>\n      <td>59</td>\n      <td>1</td>\n      <td>2</td>\n      <td>150</td>\n      <td>212</td>\n      <td>1</td>\n      <td>1</td>\n      <td>157</td>\n      <td>0</td>\n      <td>1.6</td>\n      <td>2</td>\n      <td>0</td>\n      <td>2</td>\n      <td>1</td>\n    </tr>\n    <tr>\n      <th>27</th>\n      <td>51</td>\n      <td>1</td>\n      <td>2</td>\n      <td>110</td>\n      <td>175</td>\n      <td>0</td>\n      <td>1</td>\n      <td>123</td>\n      <td>0</td>\n      <td>0.6</td>\n      <td>2</td>\n      <td>0</td>\n      <td>2</td>\n      <td>1</td>\n    </tr>\n    <tr>\n      <th>28</th>\n      <td>65</td>\n      <td>0</td>\n      <td>2</td>\n      <td>140</td>\n      <td>417</td>\n      <td>1</td>\n      <td>0</td>\n      <td>157</td>\n      <td>0</td>\n      <td>0.8</td>\n      <td>2</td>\n      <td>1</td>\n      <td>2</td>\n      <td>1</td>\n    </tr>\n    <tr>\n      <th>29</th>\n      <td>53</td>\n      <td>1</td>\n      <td>2</td>\n      <td>130</td>\n      <td>197</td>\n      <td>1</td>\n      <td>0</td>\n      <td>152</td>\n      <td>0</td>\n      <td>1.2</td>\n      <td>0</td>\n      <td>0</td>\n      <td>2</td>\n      <td>1</td>\n    </tr>\n    <tr>\n      <th>...</th>\n      <td>...</td>\n      <td>...</td>\n      <td>...</td>\n      <td>...</td>\n      <td>...</td>\n      <td>...</td>\n      <td>...</td>\n      <td>...</td>\n      <td>...</td>\n      <td>...</td>\n      <td>...</td>\n      <td>...</td>\n      <td>...</td>\n      <td>...</td>\n    </tr>\n    <tr>\n      <th>273</th>\n      <td>58</td>\n      <td>1</td>\n      <td>0</td>\n      <td>100</td>\n      <td>234</td>\n      <td>0</td>\n      <td>1</td>\n      <td>156</td>\n      <td>0</td>\n      <td>0.1</td>\n      <td>2</td>\n      <td>1</td>\n      <td>3</td>\n      <td>0</td>\n    </tr>\n    <tr>\n      <th>274</th>\n      <td>47</td>\n      <td>1</td>\n      <td>0</td>\n      <td>110</td>\n      <td>275</td>\n      <td>0</td>\n      <td>0</td>\n      <td>118</td>\n      <td>1</td>\n      <td>1.0</td>\n      <td>1</td>\n      <td>1</td>\n      <td>2</td>\n      <td>0</td>\n    </tr>\n    <tr>\n      <th>275</th>\n      <td>52</td>\n      <td>1</td>\n      <td>0</td>\n      <td>125</td>\n      <td>212</td>\n      <td>0</td>\n      <td>1</td>\n      <td>168</td>\n      <td>0</td>\n      <td>1.0</td>\n      <td>2</td>\n      <td>2</td>\n      <td>3</td>\n      <td>0</td>\n    </tr>\n    <tr>\n      <th>276</th>\n      <td>58</td>\n      <td>1</td>\n      <td>0</td>\n      <td>146</td>\n      <td>218</td>\n      <td>0</td>\n      <td>1</td>\n      <td>105</td>\n      <td>0</td>\n      <td>2.0</td>\n      <td>1</td>\n      <td>1</td>\n      <td>3</td>\n      <td>0</td>\n    </tr>\n    <tr>\n      <th>277</th>\n      <td>57</td>\n      <td>1</td>\n      <td>1</td>\n      <td>124</td>\n      <td>261</td>\n      <td>0</td>\n      <td>1</td>\n      <td>141</td>\n      <td>0</td>\n      <td>0.3</td>\n      <td>2</td>\n      <td>0</td>\n      <td>3</td>\n      <td>0</td>\n    </tr>\n    <tr>\n      <th>278</th>\n      <td>58</td>\n      <td>0</td>\n      <td>1</td>\n      <td>136</td>\n      <td>319</td>\n      <td>1</td>\n      <td>0</td>\n      <td>152</td>\n      <td>0</td>\n      <td>0.0</td>\n      <td>2</td>\n      <td>2</td>\n      <td>2</td>\n      <td>0</td>\n    </tr>\n    <tr>\n      <th>279</th>\n      <td>61</td>\n      <td>1</td>\n      <td>0</td>\n      <td>138</td>\n      <td>166</td>\n      <td>0</td>\n      <td>0</td>\n      <td>125</td>\n      <td>1</td>\n      <td>3.6</td>\n      <td>1</td>\n      <td>1</td>\n      <td>2</td>\n      <td>0</td>\n    </tr>\n    <tr>\n      <th>280</th>\n      <td>42</td>\n      <td>1</td>\n      <td>0</td>\n      <td>136</td>\n      <td>315</td>\n      <td>0</td>\n      <td>1</td>\n      <td>125</td>\n      <td>1</td>\n      <td>1.8</td>\n      <td>1</td>\n      <td>0</td>\n      <td>1</td>\n      <td>0</td>\n    </tr>\n    <tr>\n      <th>281</th>\n      <td>52</td>\n      <td>1</td>\n      <td>0</td>\n      <td>128</td>\n      <td>204</td>\n      <td>1</td>\n      <td>1</td>\n      <td>156</td>\n      <td>1</td>\n      <td>1.0</td>\n      <td>1</td>\n      <td>0</td>\n      <td>0</td>\n      <td>0</td>\n    </tr>\n    <tr>\n      <th>282</th>\n      <td>59</td>\n      <td>1</td>\n      <td>2</td>\n      <td>126</td>\n      <td>218</td>\n      <td>1</td>\n      <td>1</td>\n      <td>134</td>\n      <td>0</td>\n      <td>2.2</td>\n      <td>1</td>\n      <td>1</td>\n      <td>1</td>\n      <td>0</td>\n    </tr>\n    <tr>\n      <th>283</th>\n      <td>40</td>\n      <td>1</td>\n      <td>0</td>\n      <td>152</td>\n      <td>223</td>\n      <td>0</td>\n      <td>1</td>\n      <td>181</td>\n      <td>0</td>\n      <td>0.0</td>\n      <td>2</td>\n      <td>0</td>\n      <td>3</td>\n      <td>0</td>\n    </tr>\n    <tr>\n      <th>284</th>\n      <td>61</td>\n      <td>1</td>\n      <td>0</td>\n      <td>140</td>\n      <td>207</td>\n      <td>0</td>\n      <td>0</td>\n      <td>138</td>\n      <td>1</td>\n      <td>1.9</td>\n      <td>2</td>\n      <td>1</td>\n      <td>3</td>\n      <td>0</td>\n    </tr>\n    <tr>\n      <th>285</th>\n      <td>46</td>\n      <td>1</td>\n      <td>0</td>\n      <td>140</td>\n      <td>311</td>\n      <td>0</td>\n      <td>1</td>\n      <td>120</td>\n      <td>1</td>\n      <td>1.8</td>\n      <td>1</td>\n      <td>2</td>\n      <td>3</td>\n      <td>0</td>\n    </tr>\n    <tr>\n      <th>286</th>\n      <td>59</td>\n      <td>1</td>\n      <td>3</td>\n      <td>134</td>\n      <td>204</td>\n      <td>0</td>\n      <td>1</td>\n      <td>162</td>\n      <td>0</td>\n      <td>0.8</td>\n      <td>2</td>\n      <td>2</td>\n      <td>2</td>\n      <td>0</td>\n    </tr>\n    <tr>\n      <th>287</th>\n      <td>57</td>\n      <td>1</td>\n      <td>1</td>\n      <td>154</td>\n      <td>232</td>\n      <td>0</td>\n      <td>0</td>\n      <td>164</td>\n      <td>0</td>\n      <td>0.0</td>\n      <td>2</td>\n      <td>1</td>\n      <td>2</td>\n      <td>0</td>\n    </tr>\n    <tr>\n      <th>288</th>\n      <td>57</td>\n      <td>1</td>\n      <td>0</td>\n      <td>110</td>\n      <td>335</td>\n      <td>0</td>\n      <td>1</td>\n      <td>143</td>\n      <td>1</td>\n      <td>3.0</td>\n      <td>1</td>\n      <td>1</td>\n      <td>3</td>\n      <td>0</td>\n    </tr>\n    <tr>\n      <th>289</th>\n      <td>55</td>\n      <td>0</td>\n      <td>0</td>\n      <td>128</td>\n      <td>205</td>\n      <td>0</td>\n      <td>2</td>\n      <td>130</td>\n      <td>1</td>\n      <td>2.0</td>\n      <td>1</td>\n      <td>1</td>\n      <td>3</td>\n      <td>0</td>\n    </tr>\n    <tr>\n      <th>290</th>\n      <td>61</td>\n      <td>1</td>\n      <td>0</td>\n      <td>148</td>\n      <td>203</td>\n      <td>0</td>\n      <td>1</td>\n      <td>161</td>\n      <td>0</td>\n      <td>0.0</td>\n      <td>2</td>\n      <td>1</td>\n      <td>3</td>\n      <td>0</td>\n    </tr>\n    <tr>\n      <th>291</th>\n      <td>58</td>\n      <td>1</td>\n      <td>0</td>\n      <td>114</td>\n      <td>318</td>\n      <td>0</td>\n      <td>2</td>\n      <td>140</td>\n      <td>0</td>\n      <td>4.4</td>\n      <td>0</td>\n      <td>3</td>\n      <td>1</td>\n      <td>0</td>\n    </tr>\n    <tr>\n      <th>292</th>\n      <td>58</td>\n      <td>0</td>\n      <td>0</td>\n      <td>170</td>\n      <td>225</td>\n      <td>1</td>\n      <td>0</td>\n      <td>146</td>\n      <td>1</td>\n      <td>2.8</td>\n      <td>1</td>\n      <td>2</td>\n      <td>1</td>\n      <td>0</td>\n    </tr>\n    <tr>\n      <th>293</th>\n      <td>67</td>\n      <td>1</td>\n      <td>2</td>\n      <td>152</td>\n      <td>212</td>\n      <td>0</td>\n      <td>0</td>\n      <td>150</td>\n      <td>0</td>\n      <td>0.8</td>\n      <td>1</td>\n      <td>0</td>\n      <td>3</td>\n      <td>0</td>\n    </tr>\n    <tr>\n      <th>294</th>\n      <td>44</td>\n      <td>1</td>\n      <td>0</td>\n      <td>120</td>\n      <td>169</td>\n      <td>0</td>\n      <td>1</td>\n      <td>144</td>\n      <td>1</td>\n      <td>2.8</td>\n      <td>0</td>\n      <td>0</td>\n      <td>1</td>\n      <td>0</td>\n    </tr>\n    <tr>\n      <th>295</th>\n      <td>63</td>\n      <td>1</td>\n      <td>0</td>\n      <td>140</td>\n      <td>187</td>\n      <td>0</td>\n      <td>0</td>\n      <td>144</td>\n      <td>1</td>\n      <td>4.0</td>\n      <td>2</td>\n      <td>2</td>\n      <td>3</td>\n      <td>0</td>\n    </tr>\n    <tr>\n      <th>296</th>\n      <td>63</td>\n      <td>0</td>\n      <td>0</td>\n      <td>124</td>\n      <td>197</td>\n      <td>0</td>\n      <td>1</td>\n      <td>136</td>\n      <td>1</td>\n      <td>0.0</td>\n      <td>1</td>\n      <td>0</td>\n      <td>2</td>\n      <td>0</td>\n    </tr>\n    <tr>\n      <th>297</th>\n      <td>59</td>\n      <td>1</td>\n      <td>0</td>\n      <td>164</td>\n      <td>176</td>\n      <td>1</td>\n      <td>0</td>\n      <td>90</td>\n      <td>0</td>\n      <td>1.0</td>\n      <td>1</td>\n      <td>2</td>\n      <td>1</td>\n      <td>0</td>\n    </tr>\n    <tr>\n      <th>298</th>\n      <td>57</td>\n      <td>0</td>\n      <td>0</td>\n      <td>140</td>\n      <td>241</td>\n      <td>0</td>\n      <td>1</td>\n      <td>123</td>\n      <td>1</td>\n      <td>0.2</td>\n      <td>1</td>\n      <td>0</td>\n      <td>3</td>\n      <td>0</td>\n    </tr>\n    <tr>\n      <th>299</th>\n      <td>45</td>\n      <td>1</td>\n      <td>3</td>\n      <td>110</td>\n      <td>264</td>\n      <td>0</td>\n      <td>1</td>\n      <td>132</td>\n      <td>0</td>\n      <td>1.2</td>\n      <td>1</td>\n      <td>0</td>\n      <td>3</td>\n      <td>0</td>\n    </tr>\n    <tr>\n      <th>300</th>\n      <td>68</td>\n      <td>1</td>\n      <td>0</td>\n      <td>144</td>\n      <td>193</td>\n      <td>1</td>\n      <td>1</td>\n      <td>141</td>\n      <td>0</td>\n      <td>3.4</td>\n      <td>1</td>\n      <td>2</td>\n      <td>3</td>\n      <td>0</td>\n    </tr>\n    <tr>\n      <th>301</th>\n      <td>57</td>\n      <td>1</td>\n      <td>0</td>\n      <td>130</td>\n      <td>131</td>\n      <td>0</td>\n      <td>1</td>\n      <td>115</td>\n      <td>1</td>\n      <td>1.2</td>\n      <td>1</td>\n      <td>1</td>\n      <td>3</td>\n      <td>0</td>\n    </tr>\n    <tr>\n      <th>302</th>\n      <td>57</td>\n      <td>0</td>\n      <td>1</td>\n      <td>130</td>\n      <td>236</td>\n      <td>0</td>\n      <td>0</td>\n      <td>174</td>\n      <td>0</td>\n      <td>0.0</td>\n      <td>1</td>\n      <td>1</td>\n      <td>2</td>\n      <td>0</td>\n    </tr>\n  </tbody>\n</table>\n<p>303 rows \u00d7 14 columns</p>\n</div>"
                    }, 
                    "execution_count": 44, 
                    "metadata": {}
                }
            ], 
            "execution_count": 44
        }, 
        {
            "source": "<h2>Features Extraction</h2>", 
            "cell_type": "markdown", 
            "metadata": {}
        }, 
        {
            "source": "X = dataset.iloc[:, 0: 13].values\ny = dataset.iloc[:, 13].values", 
            "cell_type": "code", 
            "metadata": {}, 
            "outputs": [], 
            "execution_count": 45
        }, 
        {
            "source": "from sklearn.cross_validation import train_test_split\nX_train, X_test, y_train, y_test = train_test_split(X, y, test_size = 0.25, random_state = 0)", 
            "cell_type": "code", 
            "metadata": {}, 
            "outputs": [], 
            "execution_count": 46
        }, 
        {
            "source": "<h2>Model Creation and Training</h2>", 
            "cell_type": "markdown", 
            "metadata": {}
        }, 
        {
            "source": "#design network\nclassifier = Sequential()\n\n# Adding the input layer and the first hidden layer\nclassifier.add(Dense(output_dim = 6, init = 'uniform', activation = 'relu', input_dim = 13))\n\n# Adding the second hidden layer\nclassifier.add(Dense(output_dim = 6, init = 'uniform', activation = 'relu'))\n\n# Adding the output layer\nclassifier.add(Dense(output_dim = 1, init = 'uniform', activation = 'sigmoid'))\n\n# Compiling the ANN\nclassifier.compile(optimizer = 'adam', loss = 'binary_crossentropy', metrics = ['accuracy'])\n\n# Fitting the ANN to the Training set\nclassifier.fit(X_train, y_train, batch_size = 10, nb_epoch = 100)", 
            "cell_type": "code", 
            "metadata": {}, 
            "outputs": [
                {
                    "output_type": "stream", 
                    "name": "stderr", 
                    "text": "/opt/ibm/conda/miniconda3/lib/python3.5/site-packages/ipykernel/__main__.py:5: UserWarning: Update your `Dense` call to the Keras 2 API: `Dense(units=6, kernel_initializer=\"uniform\", input_dim=13, activation=\"relu\")`\n/opt/ibm/conda/miniconda3/lib/python3.5/site-packages/ipykernel/__main__.py:8: UserWarning: Update your `Dense` call to the Keras 2 API: `Dense(activation=\"relu\", units=6, kernel_initializer=\"uniform\")`\n/opt/ibm/conda/miniconda3/lib/python3.5/site-packages/ipykernel/__main__.py:11: UserWarning: Update your `Dense` call to the Keras 2 API: `Dense(activation=\"sigmoid\", units=1, kernel_initializer=\"uniform\")`\n/opt/ibm/conda/miniconda3/lib/python3.5/site-packages/keras/models.py:942: UserWarning: The `nb_epoch` argument in `fit` has been renamed `epochs`.\n  warnings.warn('The `nb_epoch` argument in `fit` '\n"
                }, 
                {
                    "output_type": "stream", 
                    "name": "stdout", 
                    "text": "Epoch 1/100\n227/227 [==============================] - 0s 1ms/step - loss: 0.6927 - acc: 0.5154\nEpoch 2/100\n227/227 [==============================] - 0s 146us/step - loss: 0.6908 - acc: 0.5374\nEpoch 3/100\n227/227 [==============================] - 0s 148us/step - loss: 0.6894 - acc: 0.5374\nEpoch 4/100\n227/227 [==============================] - 0s 152us/step - loss: 0.6866 - acc: 0.5374\nEpoch 5/100\n227/227 [==============================] - 0s 145us/step - loss: 0.6850 - acc: 0.5374\nEpoch 6/100\n227/227 [==============================] - 0s 153us/step - loss: 0.6817 - acc: 0.5374\nEpoch 7/100\n227/227 [==============================] - 0s 156us/step - loss: 0.6758 - acc: 0.5595\nEpoch 8/100\n227/227 [==============================] - 0s 153us/step - loss: 0.6682 - acc: 0.5551\nEpoch 9/100\n227/227 [==============================] - 0s 149us/step - loss: 0.6581 - acc: 0.6167\nEpoch 10/100\n227/227 [==============================] - 0s 153us/step - loss: 0.6464 - acc: 0.6079\nEpoch 11/100\n227/227 [==============================] - 0s 159us/step - loss: 0.6302 - acc: 0.6784\nEpoch 12/100\n227/227 [==============================] - 0s 169us/step - loss: 0.6333 - acc: 0.6388\nEpoch 13/100\n227/227 [==============================] - 0s 156us/step - loss: 0.5998 - acc: 0.6696\nEpoch 14/100\n227/227 [==============================] - 0s 147us/step - loss: 0.5878 - acc: 0.7137\nEpoch 15/100\n227/227 [==============================] - 0s 144us/step - loss: 0.5724 - acc: 0.7093\nEpoch 16/100\n227/227 [==============================] - 0s 147us/step - loss: 0.5586 - acc: 0.6960\nEpoch 17/100\n227/227 [==============================] - 0s 153us/step - loss: 0.5513 - acc: 0.7093\nEpoch 18/100\n227/227 [==============================] - 0s 156us/step - loss: 0.5544 - acc: 0.7093\nEpoch 19/100\n227/227 [==============================] - 0s 157us/step - loss: 0.5336 - acc: 0.7181\nEpoch 20/100\n227/227 [==============================] - 0s 152us/step - loss: 0.5328 - acc: 0.7357\nEpoch 21/100\n227/227 [==============================] - 0s 156us/step - loss: 0.5283 - acc: 0.7445\nEpoch 22/100\n227/227 [==============================] - 0s 150us/step - loss: 0.5182 - acc: 0.7313\nEpoch 23/100\n227/227 [==============================] - 0s 151us/step - loss: 0.5059 - acc: 0.7357\nEpoch 24/100\n227/227 [==============================] - 0s 144us/step - loss: 0.4969 - acc: 0.7313\nEpoch 25/100\n227/227 [==============================] - 0s 393us/step - loss: 0.4860 - acc: 0.7489\nEpoch 26/100\n227/227 [==============================] - 0s 170us/step - loss: 0.4917 - acc: 0.7577\nEpoch 27/100\n227/227 [==============================] - 0s 183us/step - loss: 0.4898 - acc: 0.7577\nEpoch 28/100\n227/227 [==============================] - 0s 150us/step - loss: 0.4717 - acc: 0.7753\nEpoch 29/100\n227/227 [==============================] - 0s 149us/step - loss: 0.4715 - acc: 0.7797\nEpoch 30/100\n227/227 [==============================] - 0s 170us/step - loss: 0.4771 - acc: 0.7753\nEpoch 31/100\n227/227 [==============================] - 0s 158us/step - loss: 0.4741 - acc: 0.7930\nEpoch 32/100\n227/227 [==============================] - 0s 156us/step - loss: 0.4688 - acc: 0.7974\nEpoch 33/100\n227/227 [==============================] - 0s 167us/step - loss: 0.4875 - acc: 0.7885\nEpoch 34/100\n227/227 [==============================] - 0s 217us/step - loss: 0.4559 - acc: 0.7797\nEpoch 35/100\n227/227 [==============================] - 0s 184us/step - loss: 0.4486 - acc: 0.7885\nEpoch 36/100\n227/227 [==============================] - 0s 413us/step - loss: 0.4393 - acc: 0.7885\nEpoch 37/100\n227/227 [==============================] - 0s 151us/step - loss: 0.4543 - acc: 0.7841\nEpoch 38/100\n227/227 [==============================] - 0s 149us/step - loss: 0.4503 - acc: 0.8194\nEpoch 39/100\n227/227 [==============================] - 0s 196us/step - loss: 0.4674 - acc: 0.7709\nEpoch 40/100\n227/227 [==============================] - 0s 150us/step - loss: 0.4665 - acc: 0.7974\nEpoch 41/100\n227/227 [==============================] - 0s 148us/step - loss: 0.4266 - acc: 0.8194\nEpoch 42/100\n227/227 [==============================] - 0s 145us/step - loss: 0.4249 - acc: 0.8062\nEpoch 43/100\n227/227 [==============================] - 0s 150us/step - loss: 0.4227 - acc: 0.8150\nEpoch 44/100\n227/227 [==============================] - 0s 149us/step - loss: 0.4162 - acc: 0.8150\nEpoch 45/100\n227/227 [==============================] - 0s 158us/step - loss: 0.4177 - acc: 0.8150\nEpoch 46/100\n227/227 [==============================] - 0s 164us/step - loss: 0.4596 - acc: 0.7709\nEpoch 47/100\n227/227 [==============================] - 0s 165us/step - loss: 0.4153 - acc: 0.8106\nEpoch 48/100\n227/227 [==============================] - 0s 154us/step - loss: 0.4091 - acc: 0.8282\nEpoch 49/100\n227/227 [==============================] - 0s 146us/step - loss: 0.4074 - acc: 0.8326\nEpoch 50/100\n227/227 [==============================] - 0s 146us/step - loss: 0.4219 - acc: 0.8194\nEpoch 51/100\n227/227 [==============================] - 0s 143us/step - loss: 0.4161 - acc: 0.8282\nEpoch 52/100\n227/227 [==============================] - 0s 146us/step - loss: 0.4129 - acc: 0.8238\nEpoch 53/100\n227/227 [==============================] - 0s 153us/step - loss: 0.3953 - acc: 0.8282\nEpoch 54/100\n227/227 [==============================] - 0s 150us/step - loss: 0.4024 - acc: 0.8282\nEpoch 55/100\n227/227 [==============================] - 0s 153us/step - loss: 0.3947 - acc: 0.8370\nEpoch 56/100\n227/227 [==============================] - 0s 152us/step - loss: 0.4042 - acc: 0.8106\nEpoch 57/100\n227/227 [==============================] - 0s 151us/step - loss: 0.4068 - acc: 0.8326\nEpoch 58/100\n227/227 [==============================] - 0s 154us/step - loss: 0.3900 - acc: 0.8414\nEpoch 59/100\n227/227 [==============================] - 0s 180us/step - loss: 0.4019 - acc: 0.8150\nEpoch 60/100\n227/227 [==============================] - 0s 160us/step - loss: 0.4162 - acc: 0.8502\nEpoch 61/100\n227/227 [==============================] - 0s 162us/step - loss: 0.4003 - acc: 0.8370\nEpoch 62/100\n227/227 [==============================] - 0s 175us/step - loss: 0.3907 - acc: 0.8502\nEpoch 63/100\n227/227 [==============================] - 0s 154us/step - loss: 0.3856 - acc: 0.8546\nEpoch 64/100\n227/227 [==============================] - 0s 152us/step - loss: 0.3838 - acc: 0.8414\nEpoch 65/100\n227/227 [==============================] - 0s 145us/step - loss: 0.3846 - acc: 0.8414\nEpoch 66/100\n227/227 [==============================] - 0s 141us/step - loss: 0.3884 - acc: 0.8326\nEpoch 67/100\n227/227 [==============================] - 0s 145us/step - loss: 0.3846 - acc: 0.8150\nEpoch 68/100\n227/227 [==============================] - 0s 148us/step - loss: 0.3878 - acc: 0.8458\nEpoch 69/100\n227/227 [==============================] - 0s 151us/step - loss: 0.3828 - acc: 0.8414\nEpoch 70/100\n227/227 [==============================] - 0s 151us/step - loss: 0.4093 - acc: 0.8062\nEpoch 71/100\n227/227 [==============================] - 0s 151us/step - loss: 0.4051 - acc: 0.8238\nEpoch 72/100\n227/227 [==============================] - 0s 150us/step - loss: 0.3957 - acc: 0.8326\nEpoch 73/100\n227/227 [==============================] - 0s 153us/step - loss: 0.3731 - acc: 0.8458\nEpoch 74/100\n227/227 [==============================] - 0s 152us/step - loss: 0.3810 - acc: 0.8414\nEpoch 75/100\n227/227 [==============================] - 0s 150us/step - loss: 0.3702 - acc: 0.8458\nEpoch 76/100\n227/227 [==============================] - 0s 164us/step - loss: 0.3801 - acc: 0.8414\nEpoch 77/100\n227/227 [==============================] - 0s 146us/step - loss: 0.3738 - acc: 0.8502\nEpoch 78/100\n227/227 [==============================] - 0s 148us/step - loss: 0.3804 - acc: 0.8502\nEpoch 79/100\n227/227 [==============================] - 0s 145us/step - loss: 0.3868 - acc: 0.8150\nEpoch 80/100\n227/227 [==============================] - 0s 145us/step - loss: 0.3874 - acc: 0.8370\nEpoch 81/100\n227/227 [==============================] - 0s 144us/step - loss: 0.3743 - acc: 0.8502\nEpoch 82/100\n227/227 [==============================] - 0s 151us/step - loss: 0.3713 - acc: 0.8194\nEpoch 83/100\n"
                }, 
                {
                    "output_type": "stream", 
                    "name": "stdout", 
                    "text": "227/227 [==============================] - 0s 145us/step - loss: 0.3874 - acc: 0.8238\nEpoch 84/100\n227/227 [==============================] - 0s 516us/step - loss: 0.3712 - acc: 0.8414\nEpoch 85/100\n227/227 [==============================] - 0s 228us/step - loss: 0.4137 - acc: 0.8194\nEpoch 86/100\n227/227 [==============================] - 0s 184us/step - loss: 0.3941 - acc: 0.8326\nEpoch 87/100\n227/227 [==============================] - 0s 185us/step - loss: 0.3793 - acc: 0.8370\nEpoch 88/100\n227/227 [==============================] - 0s 152us/step - loss: 0.3808 - acc: 0.8370\nEpoch 89/100\n227/227 [==============================] - 0s 147us/step - loss: 0.3704 - acc: 0.8546\nEpoch 90/100\n227/227 [==============================] - 0s 144us/step - loss: 0.3768 - acc: 0.8502\nEpoch 91/100\n227/227 [==============================] - 0s 140us/step - loss: 0.3784 - acc: 0.8414\nEpoch 92/100\n227/227 [==============================] - 0s 141us/step - loss: 0.3913 - acc: 0.8458\nEpoch 93/100\n227/227 [==============================] - 0s 143us/step - loss: 0.3676 - acc: 0.8590\nEpoch 94/100\n227/227 [==============================] - 0s 146us/step - loss: 0.3796 - acc: 0.8238\nEpoch 95/100\n227/227 [==============================] - 0s 147us/step - loss: 0.4237 - acc: 0.8238\nEpoch 96/100\n227/227 [==============================] - 0s 154us/step - loss: 0.3722 - acc: 0.8502\nEpoch 97/100\n227/227 [==============================] - 0s 156us/step - loss: 0.3777 - acc: 0.8458\nEpoch 98/100\n227/227 [==============================] - 0s 145us/step - loss: 0.3886 - acc: 0.8238\nEpoch 99/100\n227/227 [==============================] - 0s 147us/step - loss: 0.3731 - acc: 0.8326\nEpoch 100/100\n227/227 [==============================] - 0s 148us/step - loss: 0.3670 - acc: 0.8678\n"
                }, 
                {
                    "output_type": "execute_result", 
                    "data": {
                        "text/plain": "<keras.callbacks.History at 0x2b0c4da0d4a8>"
                    }, 
                    "execution_count": 47, 
                    "metadata": {}
                }
            ], 
            "execution_count": 47
        }, 
        {
            "source": "<h2>Model Evaluation</h2>", 
            "cell_type": "markdown", 
            "metadata": {}
        }, 
        {
            "source": "y_pred = classifier.predict_classes(X_test)", 
            "cell_type": "code", 
            "metadata": {}, 
            "outputs": [], 
            "execution_count": 48
        }, 
        {
            "source": "y_pred", 
            "cell_type": "code", 
            "metadata": {}, 
            "outputs": [
                {
                    "output_type": "execute_result", 
                    "data": {
                        "text/plain": "array([[0],\n       [1],\n       [1],\n       [0],\n       [0],\n       [1],\n       [0],\n       [0],\n       [0],\n       [0],\n       [1],\n       [1],\n       [0],\n       [1],\n       [1],\n       [1],\n       [0],\n       [1],\n       [0],\n       [1],\n       [1],\n       [1],\n       [0],\n       [0],\n       [1],\n       [1],\n       [0],\n       [1],\n       [1],\n       [1],\n       [1],\n       [0],\n       [1],\n       [1],\n       [1],\n       [1],\n       [0],\n       [1],\n       [0],\n       [0],\n       [1],\n       [1],\n       [1],\n       [0],\n       [1],\n       [1],\n       [1],\n       [1],\n       [0],\n       [1],\n       [1],\n       [1],\n       [1],\n       [1],\n       [1],\n       [0],\n       [1],\n       [1],\n       [1],\n       [1],\n       [1],\n       [1],\n       [1],\n       [1],\n       [1],\n       [1],\n       [1],\n       [1],\n       [1],\n       [1],\n       [1],\n       [1],\n       [1],\n       [0],\n       [0],\n       [1]], dtype=int32)"
                    }, 
                    "execution_count": 49, 
                    "metadata": {}
                }
            ], 
            "execution_count": 49
        }, 
        {
            "source": "from sklearn.metrics import confusion_matrix\ncm = confusion_matrix(y_test, y_pred)\ncm", 
            "cell_type": "code", 
            "metadata": {}, 
            "outputs": [
                {
                    "output_type": "execute_result", 
                    "data": {
                        "text/plain": "array([[20, 13],\n       [ 2, 41]])"
                    }, 
                    "execution_count": 50, 
                    "metadata": {}
                }
            ], 
            "execution_count": 50
        }, 
        {
            "source": "score = classifier.evaluate(X_test, y_test)\nprint('Test score:', score[0]) \nprint('Test accuracy:', score[1])", 
            "cell_type": "code", 
            "metadata": {}, 
            "outputs": [
                {
                    "output_type": "stream", 
                    "name": "stdout", 
                    "text": "76/76 [==============================] - 0s 362us/step\nTest score: 0.431691216795\nTest accuracy: 0.802631582084\n"
                }
            ], 
            "execution_count": 51
        }
    ], 
    "metadata": {
        "kernelspec": {
            "display_name": "Python 3.5 with Spark", 
            "name": "python3", 
            "language": "python3"
        }, 
        "language_info": {
            "mimetype": "text/x-python", 
            "nbconvert_exporter": "python", 
            "version": "3.5.4", 
            "name": "python", 
            "file_extension": ".py", 
            "pygments_lexer": "ipython3", 
            "codemirror_mode": {
                "version": 3, 
                "name": "ipython"
            }
        }
    }, 
    "nbformat": 4
}